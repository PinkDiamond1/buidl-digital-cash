{
 "cells": [
  {
   "cell_type": "markdown",
   "metadata": {},
   "source": [
    "[slides](https://docs.google.com/presentation/d/19K9nVjuSOCrZGM6lmFeEEarTm2xZwDSiZEIzf-Ywr5o/edit?usp=sharing)\n",
    "\n",
    "[python-ecdsa docs](https://github.com/warner/python-ecdsa)"
   ]
  },
  {
   "cell_type": "markdown",
   "metadata": {},
   "source": [
    "# Signing our First Message with ECDSA"
   ]
  },
  {
   "cell_type": "code",
   "execution_count": 3,
   "metadata": {},
   "outputs": [],
   "source": [
    "from ecdsa import SigningKey, SECP256k1\n",
    "\n",
    "private_key = SigningKey.generate(curve=SECP256k1)\n",
    "public_key = private_key.get_verifying_key()\n",
    "\n",
    "message = b\"I need coffee\"\n",
    "signature = private_key.sign(message)"
   ]
  },
  {
   "cell_type": "code",
   "execution_count": 4,
   "metadata": {},
   "outputs": [
    {
     "data": {
      "text/plain": [
       "True"
      ]
     },
     "execution_count": 4,
     "metadata": {},
     "output_type": "execute_result"
    }
   ],
   "source": [
    "public_key.verify(signature, message)"
   ]
  },
  {
   "cell_type": "code",
   "execution_count": 5,
   "metadata": {},
   "outputs": [
    {
     "ename": "BadSignatureError",
     "evalue": "",
     "output_type": "error",
     "traceback": [
      "\u001b[1;31m---------------------------------------------------------------------------\u001b[0m",
      "\u001b[1;31mBadSignatureError\u001b[0m                         Traceback (most recent call last)",
      "\u001b[1;32m<ipython-input-5-d3911688eb1b>\u001b[0m in \u001b[0;36m<module>\u001b[1;34m()\u001b[0m\n\u001b[1;32m----> 1\u001b[1;33m \u001b[0mpublic_key\u001b[0m\u001b[1;33m.\u001b[0m\u001b[0mverify\u001b[0m\u001b[1;33m(\u001b[0m\u001b[0msignature\u001b[0m\u001b[1;33m,\u001b[0m \u001b[1;34mb\"Im tired\"\u001b[0m\u001b[1;33m)\u001b[0m\u001b[1;33m\u001b[0m\u001b[0m\n\u001b[0m",
      "\u001b[1;32mc:\\data\\files\\blockchain\\training\\buidl-bootcamp\\digital-cash\\venv\\src\\ecdsa\\src\\ecdsa\\keys.py\u001b[0m in \u001b[0;36mverify\u001b[1;34m(self, signature, data, hashfunc, sigdecode)\u001b[0m\n\u001b[0;32m    107\u001b[0m         \u001b[0mhashfunc\u001b[0m \u001b[1;33m=\u001b[0m \u001b[0mhashfunc\u001b[0m \u001b[1;32mor\u001b[0m \u001b[0mself\u001b[0m\u001b[1;33m.\u001b[0m\u001b[0mdefault_hashfunc\u001b[0m\u001b[1;33m\u001b[0m\u001b[0m\n\u001b[0;32m    108\u001b[0m         \u001b[0mdigest\u001b[0m \u001b[1;33m=\u001b[0m \u001b[0mhashfunc\u001b[0m\u001b[1;33m(\u001b[0m\u001b[0mdata\u001b[0m\u001b[1;33m)\u001b[0m\u001b[1;33m.\u001b[0m\u001b[0mdigest\u001b[0m\u001b[1;33m(\u001b[0m\u001b[1;33m)\u001b[0m\u001b[1;33m\u001b[0m\u001b[0m\n\u001b[1;32m--> 109\u001b[1;33m         \u001b[1;32mreturn\u001b[0m \u001b[0mself\u001b[0m\u001b[1;33m.\u001b[0m\u001b[0mverify_digest\u001b[0m\u001b[1;33m(\u001b[0m\u001b[0msignature\u001b[0m\u001b[1;33m,\u001b[0m \u001b[0mdigest\u001b[0m\u001b[1;33m,\u001b[0m \u001b[0msigdecode\u001b[0m\u001b[1;33m)\u001b[0m\u001b[1;33m\u001b[0m\u001b[0m\n\u001b[0m\u001b[0;32m    110\u001b[0m \u001b[1;33m\u001b[0m\u001b[0m\n\u001b[0;32m    111\u001b[0m     \u001b[1;32mdef\u001b[0m \u001b[0mverify_digest\u001b[0m\u001b[1;33m(\u001b[0m\u001b[0mself\u001b[0m\u001b[1;33m,\u001b[0m \u001b[0msignature\u001b[0m\u001b[1;33m,\u001b[0m \u001b[0mdigest\u001b[0m\u001b[1;33m,\u001b[0m \u001b[0msigdecode\u001b[0m\u001b[1;33m=\u001b[0m\u001b[0msigdecode_string\u001b[0m\u001b[1;33m)\u001b[0m\u001b[1;33m:\u001b[0m\u001b[1;33m\u001b[0m\u001b[0m\n",
      "\u001b[1;32mc:\\data\\files\\blockchain\\training\\buidl-bootcamp\\digital-cash\\venv\\src\\ecdsa\\src\\ecdsa\\keys.py\u001b[0m in \u001b[0;36mverify_digest\u001b[1;34m(self, signature, digest, sigdecode)\u001b[0m\n\u001b[0;32m    119\u001b[0m         \u001b[1;32mif\u001b[0m \u001b[0mself\u001b[0m\u001b[1;33m.\u001b[0m\u001b[0mpubkey\u001b[0m\u001b[1;33m.\u001b[0m\u001b[0mverifies\u001b[0m\u001b[1;33m(\u001b[0m\u001b[0mnumber\u001b[0m\u001b[1;33m,\u001b[0m \u001b[0msig\u001b[0m\u001b[1;33m)\u001b[0m\u001b[1;33m:\u001b[0m\u001b[1;33m\u001b[0m\u001b[0m\n\u001b[0;32m    120\u001b[0m             \u001b[1;32mreturn\u001b[0m \u001b[1;32mTrue\u001b[0m\u001b[1;33m\u001b[0m\u001b[0m\n\u001b[1;32m--> 121\u001b[1;33m         \u001b[1;32mraise\u001b[0m \u001b[0mBadSignatureError\u001b[0m\u001b[1;33m\u001b[0m\u001b[0m\n\u001b[0m\u001b[0;32m    122\u001b[0m \u001b[1;33m\u001b[0m\u001b[0m\n\u001b[0;32m    123\u001b[0m \u001b[1;33m\u001b[0m\u001b[0m\n",
      "\u001b[1;31mBadSignatureError\u001b[0m: "
     ]
    }
   ],
   "source": [
    "public_key.verify(signature, b\"Im tired\")"
   ]
  },
  {
   "cell_type": "markdown",
   "metadata": {},
   "source": [
    "# Defining ECDSACoin\n",
    "\n",
    "* A coin is just a list of transfers, just like with PNGCoin. \n",
    "    * Where transfers were photographs of signatures in PNGCoin, they are ECDSA digital signatures in ECDSACoin\n",
    "* The `public_key` in the last transfer is who owns the coin\n",
    "* To spend the coin append a new transfer. Use the public key of the person you are sending to, and sign it using your private key."
   ]
  },
  {
   "cell_type": "code",
   "execution_count": 6,
   "metadata": {},
   "outputs": [],
   "source": [
    "class Transfer:\n",
    "    def __init__(self, signature, public_key):\n",
    "        self.signature = signature\n",
    "        self.public_key = public_key\n",
    "        \n",
    "class EDSACoin:\n",
    "    def __init__(self, transfers):\n",
    "        self.transfers = transfers"
   ]
  },
  {
   "cell_type": "code",
   "execution_count": 10,
   "metadata": {},
   "outputs": [],
   "source": [
    "# The usual suspects ... \n",
    "# SECP256k1 is a detail about the \"magical multiplication\" used under the covers\n",
    "\n",
    "bank_private_key = SigningKey.generate(curve=SECP256k1)\n",
    "bob_private_key = SigningKey.generate(curve=SECP256k1)\n",
    "alice_private_key = SigningKey.generate(curve=SECP256k1)\n",
    "\n",
    "bank_public_key = bank_private_key.get_verifying_key()\n",
    "bob_public_key = bob_private_key.get_verifying_key()\n",
    "alice_public_key = alice_private_key.get_verifying_key()"
   ]
  },
  {
   "cell_type": "code",
   "execution_count": 7,
   "metadata": {},
   "outputs": [],
   "source": [
    "from utils import serialize\n",
    "\n",
    "def issue(public_key):\n",
    "    message = serialize(public_key)\n",
    "    \n",
    "    signature = bank_private_key.sign(message)    \n",
    "    transfer = Transfer(\n",
    "        signature=signature,\n",
    "        public_key=public_key\n",
    "    )\n",
    "\n",
    "    coin = EDSACoin([transfer])\n",
    "    return coin"
   ]
  },
  {
   "cell_type": "markdown",
   "metadata": {},
   "source": [
    "# Validating the First Transfer"
   ]
  },
  {
   "cell_type": "code",
   "execution_count": 8,
   "metadata": {},
   "outputs": [],
   "source": [
    "def validate(coin):\n",
    "    transfer = coin.transfers[0]\n",
    "    message = serialize(transfer.public_key)\n",
    "    bank_public_key.verify(transfer.signature, message)"
   ]
  },
  {
   "cell_type": "code",
   "execution_count": 11,
   "metadata": {},
   "outputs": [],
   "source": [
    "alice_coin = issue(alice_public_key)\n",
    "\n",
    "validate(alice_coin)"
   ]
  },
  {
   "cell_type": "code",
   "execution_count": 12,
   "metadata": {},
   "outputs": [],
   "source": [
    "message = serialize(bob_public_key)\n",
    "signature = bob_private_key.sign(message)    \n",
    "transfer = Transfer(\n",
    "    signature=signature,\n",
    "    public_key=bob_public_key\n",
    ")\n",
    "alt_coin = EDSACoin([transfer])"
   ]
  },
  {
   "cell_type": "code",
   "execution_count": 13,
   "metadata": {},
   "outputs": [
    {
     "name": "stdout",
     "output_type": "stream",
     "text": [
      "Bad signature detected\n"
     ]
    }
   ],
   "source": [
    "from ecdsa import BadSignatureError\n",
    "\n",
    "try:\n",
    "    validate(alt_coin)\n",
    "except BadSignatureError:\n",
    "    print(\"Bad signature detected\")"
   ]
  },
  {
   "cell_type": "markdown",
   "metadata": {},
   "source": [
    "# Validating Subsequent Transfers"
   ]
  },
  {
   "cell_type": "code",
   "execution_count": 14,
   "metadata": {},
   "outputs": [],
   "source": [
    "def transfer_message(previous_signature, next_owner_public_key):\n",
    "    return serialize({\n",
    "        \"previous_signature\": previous_signature,\n",
    "        \"next_owner_public_key\": next_owner_public_key\n",
    "    })\n",
    "\n",
    "def validate(coin):\n",
    "    # Check the first transfer\n",
    "    transfer = coin.transfers[0]\n",
    "    message = serialize(transfer.public_key)\n",
    "    bank_public_key.verify(transfer.signature, message)\n",
    "    \n",
    "    # Check the rest of coin.transfers\n",
    "    previous_transfer = coin.transfers[0]\n",
    "    for next_transfer in coin.transfers[1:]:\n",
    "        message = transfer_message(previous_transfer.signature, next_transfer.public_key)\n",
    "        previous_transfer.publick_key.verify(\n",
    "            next_transfer.signature,\n",
    "            message\n",
    "        )\n",
    "        "
   ]
  },
  {
   "cell_type": "code",
   "execution_count": 20,
   "metadata": {},
   "outputs": [],
   "source": [
    "def get_owner(coin):\n",
    "    database = {\n",
    "        serialize(bob_public_key): \"Bob\",\n",
    "        serialize(alice_public_key): \"Alice\",\n",
    "        serialize(bank_public_key): \"Bank\",\n",
    "    }\n",
    "    public_key = serialize(coin.transfers[-1].public_key)\n",
    "    return database[public_key]"
   ]
  },
  {
   "cell_type": "code",
   "execution_count": 22,
   "metadata": {},
   "outputs": [
    {
     "name": "stdout",
     "output_type": "stream",
     "text": [
      "This coin is owned by  Alice\n",
      "This coin is owned by  Bob\n",
      "This coin is owned by  Bank\n"
     ]
    }
   ],
   "source": [
    "coin = issue(alice_public_key)\n",
    "print(\"This coin is owned by \", get_owner(coin))\n",
    "\n",
    "message = transfer_message(coin.transfers[-1].signature, bob_public_key)\n",
    "alice_to_bob = Transfer(\n",
    "    signature = alice_private_key.sign(message),\n",
    "    public_key = bob_public_key\n",
    ")\n",
    "coin.transfers.append(alice_to_bob)\n",
    "print(\"This coin is owned by \", get_owner(coin))\n",
    "\n",
    "message = transfer_message(coin.transfers[-1].signature, bank_public_key)\n",
    "bob_to_bank = Transfer(\n",
    "    signature = bob_private_key.sign(message),\n",
    "    public_key = bank_public_key\n",
    ")\n",
    "coin.transfers.append(bob_to_bank)\n",
    "print(\"This coin is owned by \", get_owner(coin))"
   ]
  },
  {
   "cell_type": "markdown",
   "metadata": {},
   "source": [
    "# Serialization"
   ]
  },
  {
   "cell_type": "code",
   "execution_count": 23,
   "metadata": {},
   "outputs": [],
   "source": [
    "from utils import to_disk, from_disk"
   ]
  },
  {
   "cell_type": "code",
   "execution_count": 24,
   "metadata": {},
   "outputs": [
    {
     "name": "stdout",
     "output_type": "stream",
     "text": [
      "Does the coin file exist on disk? False\n"
     ]
    }
   ],
   "source": [
    "import os\n",
    "\n",
    "filename = \"coin.edcsacoin\"\n",
    "\n",
    "print(\"Does the coin file exist on disk?\", os.path.isfile(filename))"
   ]
  },
  {
   "cell_type": "code",
   "execution_count": 26,
   "metadata": {},
   "outputs": [],
   "source": [
    "coin = issue(alice_public_key)\n",
    "to_disk(coin, filename)"
   ]
  },
  {
   "cell_type": "code",
   "execution_count": 27,
   "metadata": {},
   "outputs": [
    {
     "name": "stdout",
     "output_type": "stream",
     "text": [
      "Does the coin file exist on disk? True\n"
     ]
    }
   ],
   "source": [
    "print(\"Does the coin file exist on disk?\", os.path.isfile(filename))"
   ]
  },
  {
   "cell_type": "code",
   "execution_count": 28,
   "metadata": {},
   "outputs": [
    {
     "data": {
      "text/plain": [
       "<__main__.EDSACoin at 0x1863d377080>"
      ]
     },
     "execution_count": 28,
     "metadata": {},
     "output_type": "execute_result"
    }
   ],
   "source": [
    "coin = from_disk(filename)\n",
    "coin"
   ]
  },
  {
   "cell_type": "markdown",
   "metadata": {},
   "source": [
    "# The Finished Product\n",
    "\n",
    "[ecdsacoin.py](ecdsacoin.py)"
   ]
  },
  {
   "cell_type": "code",
   "execution_count": 21,
   "metadata": {},
   "outputs": [],
   "source": [
    "import ecdsacoin\n",
    "\n",
    "coin = ecdsacoin.issue(alice_public_key)\n",
    "coin.validate()\n",
    "\n",
    "alice_to_bob = Transfer(\n",
    "    signature=alice_private_key.sign(transfer_message(coin.transfers[-1].signature, bob_public_key)),\n",
    "    public_key=bob_public_key,\n",
    ")\n",
    "\n",
    "coin.transfers.append(alice_to_bob)\n",
    "coin.validate()"
   ]
  }
 ],
 "metadata": {
  "kernelspec": {
   "display_name": "Python 3",
   "language": "python",
   "name": "python3"
  },
  "language_info": {
   "codemirror_mode": {
    "name": "ipython",
    "version": 3
   },
   "file_extension": ".py",
   "mimetype": "text/x-python",
   "name": "python",
   "nbconvert_exporter": "python",
   "pygments_lexer": "ipython3",
   "version": "3.7.0"
  }
 },
 "nbformat": 4,
 "nbformat_minor": 2
}
